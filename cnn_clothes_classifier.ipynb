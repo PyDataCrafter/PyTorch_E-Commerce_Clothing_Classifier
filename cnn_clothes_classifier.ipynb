{
 "cells": [
  {
   "cell_type": "markdown",
   "id": "aaa02648-9eae-45ba-893f-88440e8e4235",
   "metadata": {},
   "source": [
    "![clothing_classification](clothing_classification.png)\n"
   ]
  },
  {
   "cell_type": "markdown",
   "id": "ad5a988c-1095-485a-a88c-002400a872be",
   "metadata": {},
   "source": [
    "Fashion Forward is a new AI-based e-commerce clothing retailer.\n",
    "They want to use image classification to automatically categorize new product listings, making it easier for customers to find what they're looking for. It will also assist in inventory management by quickly sorting items.\n",
    "\n",
    "As a data scientist tasked with implementing a garment classifier, your primary objective is to develop a machine learning model capable of accurately categorizing images of clothing items into distinct garment types such as shirts, trousers, shoes, etc."
   ]
  },
  {
   "cell_type": "code",
   "execution_count": 9,
   "id": "4a1ab317-f3e4-4e5f-93a7-9c27677c5ffb",
   "metadata": {
    "executionCancelledAt": null,
    "executionTime": 8,
    "lastExecutedAt": 1745174555934,
    "lastExecutedByKernel": "301011c0-49c5-4859-abe8-302440c9ddb8",
    "lastScheduledRunId": null,
    "lastSuccessfullyExecutedCode": "# Run the cells below first"
   },
   "outputs": [],
   "source": [
    "# Run the cells below first"
   ]
  },
  {
   "cell_type": "code",
   "execution_count": 10,
   "id": "ea8065b7-84fc-4376-afef-6db731dec4b3",
   "metadata": {
    "executionCancelledAt": null,
    "executionTime": 48,
    "lastExecutedAt": 1745174555982,
    "lastExecutedByKernel": "301011c0-49c5-4859-abe8-302440c9ddb8",
    "lastScheduledRunId": null,
    "lastSuccessfullyExecutedCode": "import numpy as np\nimport torch\nimport torch.nn as nn\nimport torch.optim as optim\nfrom torch.utils.data import Dataset, DataLoader\nfrom torchmetrics import Accuracy, Precision, Recall\nimport torch.nn.functional as F\nimport matplotlib.pyplot as plt\n\n# Load datasets\nfrom torchvision import datasets\nimport torchvision.transforms as transforms"
   },
   "outputs": [],
   "source": [
    "import numpy as np\n",
    "import torch\n",
    "import torch.nn as nn\n",
    "import torch.optim as optim\n",
    "from torch.utils.data import Dataset, DataLoader\n",
    "from torchmetrics import Accuracy, Precision, Recall\n",
    "import torch.nn.functional as F\n",
    "import matplotlib.pyplot as plt\n",
    "\n",
    "# Load datasets\n",
    "from torchvision import datasets\n",
    "import torchvision.transforms as transforms"
   ]
  },
  {
   "cell_type": "code",
   "execution_count": 11,
   "id": "662e1bf1-943f-4243-9fd4-02ce11609e8d",
   "metadata": {
    "executionCancelledAt": null,
    "executionTime": 139,
    "lastExecutedAt": 1745174556121,
    "lastExecutedByKernel": "301011c0-49c5-4859-abe8-302440c9ddb8",
    "lastScheduledRunId": null,
    "lastSuccessfullyExecutedCode": "train_transforms = transforms.Compose([\n    transforms.ToTensor(),\n    transforms.Normalize(0.5, 0.5)\n])\n\ntest_transforms = transforms.Compose([\n    transforms.ToTensor(),\n    transforms.Normalize(0.5, 0.5)\n])\n\n\ntrain_data = datasets.FashionMNIST(root='./data', train=True, download=True, transform=train_transforms)\ntest_data = datasets.FashionMNIST(root='./data', train=False, download=True, transform=test_transforms)\n\ndataloader_train = DataLoader(train_data, batch_size=10, shuffle=True, num_workers=2, pin_memory=True)\n\nnum_classes = len(train_data.classes)\nimage_size = train_data[0][0].shape[1]",
    "outputsMetadata": {
     "0": {
      "height": 122,
      "type": "stream"
     },
     "1": {
      "height": 38,
      "type": "stream"
     },
     "2": {
      "height": 185,
      "type": "stream"
     },
     "3": {
      "height": 38,
      "type": "stream"
     },
     "4": {
      "height": 185,
      "type": "stream"
     },
     "5": {
      "height": 38,
      "type": "stream"
     },
     "6": {
      "height": 185,
      "type": "stream"
     },
     "7": {
      "height": 38,
      "type": "stream"
     },
     "8": {
      "height": 80,
      "type": "stream"
     }
    }
   },
   "outputs": [],
   "source": [
    "train_transforms = transforms.Compose([\n",
    "    transforms.ToTensor(),\n",
    "    transforms.Normalize(0.5, 0.5)\n",
    "])\n",
    "\n",
    "test_transforms = transforms.Compose([\n",
    "    transforms.ToTensor(),\n",
    "    transforms.Normalize(0.5, 0.5)\n",
    "])\n",
    "\n",
    "\n",
    "train_data = datasets.FashionMNIST(root='./data', train=True, download=True, transform=train_transforms)\n",
    "test_data = datasets.FashionMNIST(root='./data', train=False, download=True, transform=test_transforms)\n",
    "\n",
    "dataloader_train = DataLoader(train_data, batch_size=10, shuffle=True, num_workers=2, pin_memory=True)\n",
    "\n",
    "num_classes = len(train_data.classes)\n",
    "image_size = train_data[0][0].shape[1]"
   ]
  },
  {
   "cell_type": "code",
   "execution_count": 12,
   "id": "f513a890-883d-456c-9bcf-479d6a53fed7",
   "metadata": {
    "executionCancelledAt": null,
    "executionTime": 514,
    "lastExecutedAt": 1745174556639,
    "lastExecutedByKernel": "301011c0-49c5-4859-abe8-302440c9ddb8",
    "lastScheduledRunId": null,
    "lastSuccessfullyExecutedCode": "image, label= next(iter(dataloader_train))\nprint('train size:', len(train_data),'test size:', len(test_data))\nprint(f\"Image Size: {image.shape[2]} x {image.shape[3]},\\nClasses: {num_classes} {train_data.classes}\")\n\nimage = image.squeeze()\n\nplt.imshow(image[0])\nplt.show()",
    "outputsMetadata": {
     "0": {
      "height": 101,
      "type": "stream"
     }
    }
   },
   "outputs": [
    {
     "name": "stdout",
     "output_type": "stream",
     "text": [
      "train size: 60000 test size: 10000\n",
      "Image Size: 28 x 28,\n",
      "Classes: 10 ['T-shirt/top', 'Trouser', 'Pullover', 'Dress', 'Coat', 'Sandal', 'Shirt', 'Sneaker', 'Bag', 'Ankle boot']\n"
     ]
    },
    {
     "data": {
      "image/png": "[encoded data removed]",
      "text/plain": [
       "<Figure size 640x480 with 1 Axes>"
      ]
     },
     "metadata": {
      "image/png": {
       "height": 413,
       "width": 416
      }
     },
     "output_type": "display_data"
    }
   ],
   "source": [
    "image, label= next(iter(dataloader_train))\n",
    "print('train size:', len(train_data),'test size:', len(test_data))\n",
    "print(f\"Image Size: {image.shape[2]} x {image.shape[3]},\\nClasses: {num_classes} {train_data.classes}\")\n",
    "\n",
    "image = image.squeeze()\n",
    "\n",
    "plt.imshow(image[0])\n",
    "plt.show()"
   ]
  },
  {
   "cell_type": "code",
   "execution_count": 13,
   "id": "573940b5-1e7c-472e-bf58-4a2abadfc081",
   "metadata": {
    "collapsed": false,
    "executionCancelledAt": null,
    "executionTime": null,
    "jupyter": {
     "outputs_hidden": false,
     "source_hidden": false
    },
    "lastExecutedAt": null,
    "lastExecutedByKernel": null,
    "lastScheduledRunId": null,
    "lastSuccessfullyExecutedCode": null,
    "outputsMetadata": {
     "0": {
      "height": 80,
      "type": "stream"
     }
    }
   },
   "outputs": [
    {
     "name": "stdout",
     "output_type": "stream",
     "text": [
      "Entrenando en: cpu\n",
      "epoch 0, loss: 0.039882261342382604\n",
      "train_loss 0.398822613423826\n"
     ]
    }
   ],
   "source": [
    "# Define CNN\n",
    "class MultiClassImageClassifier(nn.Module):\n",
    "    # Define the init method\n",
    "    def __init__(self, num_classes):\n",
    "        super(MultiClassImageClassifier, self).__init__()\n",
    "        self.image_layer = nn.Sequential(\n",
    "            nn.Conv2d(1, 16, kernel_size=3, stride=1, padding=1),\n",
    "            nn.ReLU(),\n",
    "            nn.MaxPool2d(kernel_size=2, stride=2),\n",
    "            nn.Flatten(),\n",
    "            # Create a fully connected layer\n",
    "            nn.Linear(16 * (image_size//2)**2, num_classes)\n",
    "        )\n",
    "        \n",
    "    def forward(self, x):\n",
    "        # Pass inputs through each layer\n",
    "        x = self.image_layer(x)\n",
    "        return x\n",
    "    \n",
    "    \n",
    "# Define training function\n",
    "def train_model(optimizer, net, num_epochs):\n",
    "    num_processed = 0\n",
    "    criterion = nn.CrossEntropyLoss()\n",
    "    for epoch in range(num_epochs):\n",
    "        running_loss = 0\n",
    "        num_processed = 0\n",
    "        for features, labels in dataloader_train:\n",
    "            features = features.to(device)\n",
    "            labels = labels.to(device)\n",
    "            optimizer.zero_grad()\n",
    "            outputs = net(features)\n",
    "            loss = criterion(outputs, labels)\n",
    "            loss.backward()\n",
    "            optimizer.step()\n",
    "            running_loss += loss.item()\n",
    "            num_processed += len(labels)\n",
    "        print(f'epoch {epoch}, loss: {running_loss / num_processed}')\n",
    "        \n",
    "    train_loss = running_loss / len(dataloader_train)\n",
    "    print(\"train_loss\",train_loss)\n",
    "\n",
    "# 0) Elige el dispositivo una sola vez\n",
    "device = torch.device(\"cuda\" if torch.cuda.is_available() else \"cpu\")\n",
    "print(\"Entrenando en:\", device)           # \"cuda\" o \"cpu\"\n",
    "\n",
    "# Train for 1 epoch\n",
    "net = MultiClassImageClassifier(num_classes).to(device)\n",
    "optimizer = optim.Adam(net.parameters(), lr=0.001)\n",
    "\n",
    "train_model(\n",
    "    optimizer=optimizer,\n",
    "    net=net,\n",
    "    num_epochs=1,\n",
    ")"
   ]
  },
  {
   "cell_type": "code",
   "execution_count": null,
   "id": "7347d5bd-618a-4479-a16d-b4d266f275bf",
   "metadata": {
    "executionCancelledAt": null,
    "executionTime": 15476,
    "lastExecutedAt": 1745174663768,
    "lastExecutedByKernel": "301011c0-49c5-4859-abe8-302440c9ddb8",
    "lastScheduledRunId": null,
    "lastSuccessfullyExecutedCode": "# Test the model on the test set\n              \n# Define the test set DataLoader\ndataloader_test = DataLoader(\n    test_data,\n    batch_size=10,\n    shuffle=False,\n)\n# Define the metrics\naccuracy_metric = Accuracy(task='multiclass', num_classes=num_classes)\nprecision_metric = Precision(task='multiclass', num_classes=num_classes, average=None)\nrecall_metric = Recall(task='multiclass', num_classes=num_classes, average=None)\n\n# Run model on test set\nnet.eval()\npredictions = []\nfor i, (features, labels) in enumerate(dataloader_test):\n    output = net.forward(features.reshape(-1, 1, image_size, image_size))\n    cat = torch.argmax(output, dim=-1)\n    predictions.extend(cat.tolist())\n    accuracy_metric(cat, labels)\n    precision_metric(cat, labels)\n    recall_metric(cat, labels)\n\n# Compute the metrics\naccuracy = accuracy_metric.compute().item()\nprecision = precision_metric.compute().tolist()\nrecall = recall_metric.compute().tolist()\nprint('Accuracy:', accuracy)\nprint('Precision (per class):', precision)\nprint('Recall (per class):', recall)",
    "outputsMetadata": {
     "0": {
      "height": 164,
      "type": "stream"
     }
    }
   },
   "outputs": [
    {
     "name": "stdout",
     "output_type": "stream",
     "text": [
      "Accuracy: 0.8862000107765198\n",
      "Precision (per class): [0.7885462641716003, 0.9867346882820129, 0.8358974456787109, 0.858473002910614, 0.7806859016418457, 0.9873417615890503, 0.7858136296272278, 0.9248554706573486, 0.9681274890899658, 0.94700688123703]\n",
      "Recall (per class): [0.8949999809265137, 0.9670000076293945, 0.8149999976158142, 0.921999990940094, 0.8650000095367432, 0.9359999895095825, 0.5649999976158142, 0.9599999785423279, 0.972000002861023, 0.9649999737739563]\n"
     ]
    }
   ],
   "source": [
    "# Testing the model on the test set\n",
    "\n",
    "# Define the test set DataLoader\n",
    "dataloader_test = DataLoader(\n",
    "    test_data,\n",
    "    batch_size=10,\n",
    "    shuffle=False,\n",
    ")\n",
    "# Define the metrics\n",
    "accuracy_metric = Accuracy(task='multiclass', num_classes=num_classes)\n",
    "precision_metric = Precision(task='multiclass', num_classes=num_classes, average=None)\n",
    "recall_metric = Recall(task='multiclass', num_classes=num_classes, average=None)\n",
    "\n",
    "# Run model on test set\n",
    "net.eval()\n",
    "predictions = []\n",
    "for i, (features, labels) in enumerate(dataloader_test):\n",
    "    output = net.forward(features.reshape(-1, 1, image_size, image_size))\n",
    "    cat = torch.argmax(output, dim=-1)\n",
    "    predictions.extend(cat.tolist())\n",
    "    accuracy_metric(cat, labels)\n",
    "    precision_metric(cat, labels)\n",
    "    recall_metric(cat, labels)\n",
    "\n",
    "# Compute the metrics\n",
    "accuracy = accuracy_metric.compute().item()\n",
    "precision = precision_metric.compute().tolist()\n",
    "recall = recall_metric.compute().tolist()\n",
    "print('Accuracy:', accuracy)\n",
    "print('Precision (per class):', precision)\n",
    "print('Recall (per class):', recall)"
   ]
  }
 ],
 "metadata": {
  "colab": {
   "name": "Welcome to DataCamp Workspaces.ipynb",
   "provenance": []
  },
  "editor": "DataLab",
  "kernelspec": {
   "display_name": "Python 3 (ipykernel)",
   "language": "python",
   "name": "python3"
  },
  "language_info": {
   "codemirror_mode": {
    "name": "ipython",
    "version": 3
   },
   "file_extension": ".py",
   "mimetype": "text/x-python",
   "name": "python",
   "nbconvert_exporter": "python",
   "pygments_lexer": "ipython3",
   "version": "3.10.12"
  }
 },
 "nbformat": 4,
 "nbformat_minor": 5
}
